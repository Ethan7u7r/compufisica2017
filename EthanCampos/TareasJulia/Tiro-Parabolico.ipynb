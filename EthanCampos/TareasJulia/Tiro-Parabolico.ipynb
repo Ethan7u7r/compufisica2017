{
 "cells": [
  {
   "cell_type": "markdown",
   "metadata": {},
   "source": [
    " <div class=\"alert alert-success\" role=\"alert\">\n",
    " <h1>Tiro Parabólico </h1>\n",
    " <h2>Computación</h2>\n",
    " <h2>Física, Facultad de Ciencias. UNAM </h2>\n",
    " <h3>Ollin Demian Langle Chimal</h3>\n",
    " <p>ollin.langle@ciencias.unam.mx</p>\n",
    " </div>"
   ]
  },
  {
   "cell_type": "markdown",
   "metadata": {},
   "source": [
    "Lo primero que vamos a hacer es recordar el sistema de ecuaciones que rigen el tiro parabólico"
   ]
  },
  {
   "cell_type": "markdown",
   "metadata": {},
   "source": [
    "$$\n",
    "\\textbf{v} = v_0 cos(\\theta)\\hat{i} + v_0 sen(\\theta)\\hat{j}\n",
    "$$\n",
    "$$\n",
    "\\textbf{a} = -g\\hat{j}\n",
    "$$\n",
    "$$\n",
    "\\textbf{x} = (v_{0x}t+x_0)\\hat{i} + \\left(-\\frac{1}{2}gt^2+v_{0y}t+y_0\\right)\\hat{j}\n",
    "$$"
   ]
  },
  {
   "cell_type": "markdown",
   "metadata": {},
   "source": [
    "Entonces para poder resolver nuestro sistema lo primero que necesitamos es una velocidad inicial."
   ]
  },
  {
   "cell_type": "code",
   "execution_count": 24,
   "metadata": {},
   "outputs": [
    {
     "data": {
      "text/plain": [
       "100"
      ]
     },
     "execution_count": 24,
     "metadata": {},
     "output_type": "execute_result"
    }
   ],
   "source": [
    "v_0 = 100 # Digamos que dicha velocidad inicial es 100 m/s"
   ]
  },
  {
   "cell_type": "markdown",
   "metadata": {},
   "source": [
    "Como es un tiro parabólico también tenemos que definir un ángulo de tiro."
   ]
  },
  {
   "cell_type": "code",
   "execution_count": 4,
   "metadata": {},
   "outputs": [
    {
     "data": {
      "text/plain": [
       "0.7853981633974483"
      ]
     },
     "execution_count": 4,
     "metadata": {},
     "output_type": "execute_result"
    }
   ],
   "source": [
    "θ = π/4 # Digamos que el ángulo es pi/4 "
   ]
  },
  {
   "cell_type": "markdown",
   "metadata": {},
   "source": [
    "La constante que siempre vamos a tener es la gravedad. Que en el caso de la Tierra es ≈ 9.81 m/s²"
   ]
  },
  {
   "cell_type": "code",
   "execution_count": 5,
   "metadata": {},
   "outputs": [
    {
     "data": {
      "text/plain": [
       "9.81"
      ]
     },
     "execution_count": 5,
     "metadata": {},
     "output_type": "execute_result"
    }
   ],
   "source": [
    "g = 9.81 # m/s²"
   ]
  },
  {
   "cell_type": "markdown",
   "metadata": {},
   "source": [
    "Empecemos a definir la velocidad:"
   ]
  },
  {
   "cell_type": "code",
   "execution_count": 7,
   "metadata": {},
   "outputs": [
    {
     "data": {
      "text/plain": [
       "14.142135623730951"
      ]
     },
     "execution_count": 7,
     "metadata": {},
     "output_type": "execute_result"
    }
   ],
   "source": [
    "v = v_0*cos(θ)+v_0*sin(θ)"
   ]
  },
  {
   "cell_type": "markdown",
   "metadata": {},
   "source": [
    "La aceleración:"
   ]
  },
  {
   "cell_type": "code",
   "execution_count": 8,
   "metadata": {},
   "outputs": [
    {
     "data": {
      "text/plain": [
       "-9.81"
      ]
     },
     "execution_count": 8,
     "metadata": {},
     "output_type": "execute_result"
    }
   ],
   "source": [
    "a = -g"
   ]
  },
  {
   "cell_type": "markdown",
   "metadata": {},
   "source": [
    "Vamos a necesitar de tiempo:"
   ]
  },
  {
   "cell_type": "code",
   "execution_count": 61,
   "metadata": {},
   "outputs": [],
   "source": [
    "t = collect(0:0.125:20);"
   ]
  },
  {
   "cell_type": "markdown",
   "metadata": {},
   "source": [
    "Si nuestras coordenadas iniciales son x=0, y=0"
   ]
  },
  {
   "cell_type": "markdown",
   "metadata": {},
   "source": [
    "$$\n",
    "\\textbf{x} = (v_{0x}t)\\hat{i} + \\left(-\\frac{1}{2}gt^2+v_{0y}t\\right)\\hat{j}\n",
    "$$"
   ]
  },
  {
   "cell_type": "markdown",
   "metadata": {},
   "source": [
    "Vamos a tener una posición por cada tiempo"
   ]
  },
  {
   "cell_type": "code",
   "execution_count": 60,
   "metadata": {},
   "outputs": [],
   "source": [
    "X = zeros(t);\n",
    "Y = zeros(t);"
   ]
  },
  {
   "cell_type": "code",
   "execution_count": 33,
   "metadata": {},
   "outputs": [],
   "source": [
    "for i in eachindex(t)\n",
    "    X[i] = v_0*cos(θ)*t[i]\n",
    "    Y[i] = (-(1/2*g*t[i]^2)+v_0*sin(θ)*t[i])\n",
    "end"
   ]
  },
  {
   "cell_type": "code",
   "execution_count": 2,
   "metadata": {},
   "outputs": [],
   "source": [
    "using Plots"
   ]
  },
  {
   "cell_type": "code",
   "execution_count": 45,
   "metadata": {},
   "outputs": [
    {
     "data": {
      "text/plain": [
       "Plots.PyPlotBackend()"
      ]
     },
     "execution_count": 45,
     "metadata": {},
     "output_type": "execute_result"
    }
   ],
   "source": [
    "pyplot()"
   ]
  },
  {
   "cell_type": "code",
   "execution_count": 36,
   "metadata": {},
   "outputs": [
    {
     "data": {
      "text/html": [
       "<img src=\"data:image/png;base64,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\" />"
      ]
     },
     "execution_count": 36,
     "metadata": {},
     "output_type": "execute_result"
    }
   ],
   "source": [
    "plot(X,Y,w=2)\n",
    "title!(\"Tiro parabólico\")\n",
    "xaxis!(\"Posición en X\")\n",
    "yaxis!(\"Posición en Y\")"
   ]
  },
  {
   "cell_type": "code",
   "execution_count": 38,
   "metadata": {},
   "outputs": [
    {
     "data": {
      "text/plain": [
       "Plots.GRBackend()"
      ]
     },
     "execution_count": 38,
     "metadata": {},
     "output_type": "execute_result"
    }
   ],
   "source": [
    "gr()"
   ]
  },
  {
   "cell_type": "code",
   "execution_count": 39,
   "metadata": {},
   "outputs": [
    {
     "data": {
      "text/html": [
       "<?xml version=\"1.0\" encoding=\"utf-8\"?>\n",
       "<svg xmlns=\"http://www.w3.org/2000/svg\" xmlns:xlink=\"http://www.w3.org/1999/xlink\" width=\"600\" height=\"400\" viewBox=\"0 0 600 400\">\n",
       "<defs>\n",
       "  <clipPath id=\"clip00\">\n",
       "    <rect x=\"0\" y=\"0\" width=\"600\" height=\"400\"/>\n",
       "  </clipPath>\n",
       "</defs>\n",
       "<polygon clip-path=\"url(#clip9400)\" points=\"\n",
       "0,400 600,400 600,0 0,0 \n",
       "  \" fill=\"#ffffff\" fill-opacity=\"1\"/>\n",
       "<defs>\n",
       "  <clipPath id=\"clip01\">\n",
       "    <rect x=\"120\" y=\"0\" width=\"421\" height=\"400\"/>\n",
       "  </clipPath>\n",
       "</defs>\n",
       "<polygon clip-path=\"url(#clip9400)\" points=\"\n",
       "58.1864,360.065 580.315,360.065 580.315,31.4961 58.1864,31.4961 \n",
       "  \" fill=\"#ffffff\" fill-opacity=\"1\"/>\n",
       "<defs>\n",
       "  <clipPath id=\"clip02\">\n",
       "    <rect x=\"58\" y=\"31\" width=\"523\" height=\"330\"/>\n",
       "  </clipPath>\n",
       "</defs>\n",
       "<polyline clip-path=\"url(#clip9402)\" style=\"stroke:#000000; stroke-width:0.5; stroke-opacity:0.1; fill:none\" points=\"\n",
       "  58.1864,355.137 58.1864,36.4246 \n",
       "  \"/>\n",
       "<polyline clip-path=\"url(#clip9402)\" style=\"stroke:#000000; stroke-width:0.5; stroke-opacity:0.1; fill:none\" points=\"\n",
       "  150.487,355.137 150.487,36.4246 \n",
       "  \"/>\n",
       "<polyline clip-path=\"url(#clip9402)\" style=\"stroke:#000000; stroke-width:0.5; stroke-opacity:0.1; fill:none\" points=\"\n",
       "  242.787,355.137 242.787,36.4246 \n",
       "  \"/>\n",
       "<polyline clip-path=\"url(#clip9402)\" style=\"stroke:#000000; stroke-width:0.5; stroke-opacity:0.1; fill:none\" points=\"\n",
       "  335.087,355.137 335.087,36.4246 \n",
       "  \"/>\n",
       "<polyline clip-path=\"url(#clip9402)\" style=\"stroke:#000000; stroke-width:0.5; stroke-opacity:0.1; fill:none\" points=\"\n",
       "  427.387,355.137 427.387,36.4246 \n",
       "  \"/>\n",
       "<polyline clip-path=\"url(#clip9402)\" style=\"stroke:#000000; stroke-width:0.5; stroke-opacity:0.1; fill:none\" points=\"\n",
       "  519.687,355.137 519.687,36.4246 \n",
       "  \"/>\n",
       "<polyline clip-path=\"url(#clip9402)\" style=\"stroke:#000000; stroke-width:0.5; stroke-opacity:0.1; fill:none\" points=\"\n",
       "  66.0184,299.566 572.483,299.566 \n",
       "  \"/>\n",
       "<polyline clip-path=\"url(#clip9402)\" style=\"stroke:#000000; stroke-width:0.5; stroke-opacity:0.1; fill:none\" points=\"\n",
       "  66.0184,217.692 572.483,217.692 \n",
       "  \"/>\n",
       "<polyline clip-path=\"url(#clip9402)\" style=\"stroke:#000000; stroke-width:0.5; stroke-opacity:0.1; fill:none\" points=\"\n",
       "  66.0184,135.817 572.483,135.817 \n",
       "  \"/>\n",
       "<polyline clip-path=\"url(#clip9402)\" style=\"stroke:#000000; stroke-width:0.5; stroke-opacity:0.1; fill:none\" points=\"\n",
       "  66.0184,53.9433 572.483,53.9433 \n",
       "  \"/>\n",
       "<polyline clip-path=\"url(#clip9400)\" style=\"stroke:#000000; stroke-width:1; stroke-opacity:1; fill:none\" points=\"\n",
       "  58.1864,360.065 580.315,360.065 \n",
       "  \"/>\n",
       "<polyline clip-path=\"url(#clip9400)\" style=\"stroke:#000000; stroke-width:1; stroke-opacity:1; fill:none\" points=\"\n",
       "  58.1864,360.065 58.1864,31.4961 \n",
       "  \"/>\n",
       "<polyline clip-path=\"url(#clip9400)\" style=\"stroke:#000000; stroke-width:1; stroke-opacity:1; fill:none\" points=\"\n",
       "  58.1864,360.065 58.1864,355.137 \n",
       "  \"/>\n",
       "<polyline clip-path=\"url(#clip9400)\" style=\"stroke:#000000; stroke-width:1; stroke-opacity:1; fill:none\" points=\"\n",
       "  150.487,360.065 150.487,355.137 \n",
       "  \"/>\n",
       "<polyline clip-path=\"url(#clip9400)\" style=\"stroke:#000000; stroke-width:1; stroke-opacity:1; fill:none\" points=\"\n",
       "  242.787,360.065 242.787,355.137 \n",
       "  \"/>\n",
       "<polyline clip-path=\"url(#clip9400)\" style=\"stroke:#000000; stroke-width:1; stroke-opacity:1; fill:none\" points=\"\n",
       "  335.087,360.065 335.087,355.137 \n",
       "  \"/>\n",
       "<polyline clip-path=\"url(#clip9400)\" style=\"stroke:#000000; stroke-width:1; stroke-opacity:1; fill:none\" points=\"\n",
       "  427.387,360.065 427.387,355.137 \n",
       "  \"/>\n",
       "<polyline clip-path=\"url(#clip9400)\" style=\"stroke:#000000; stroke-width:1; stroke-opacity:1; fill:none\" points=\"\n",
       "  519.687,360.065 519.687,355.137 \n",
       "  \"/>\n",
       "<polyline clip-path=\"url(#clip9400)\" style=\"stroke:#000000; stroke-width:1; stroke-opacity:1; fill:none\" points=\"\n",
       "  58.1864,299.566 66.0184,299.566 \n",
       "  \"/>\n",
       "<polyline clip-path=\"url(#clip9400)\" style=\"stroke:#000000; stroke-width:1; stroke-opacity:1; fill:none\" points=\"\n",
       "  58.1864,217.692 66.0184,217.692 \n",
       "  \"/>\n",
       "<polyline clip-path=\"url(#clip9400)\" style=\"stroke:#000000; stroke-width:1; stroke-opacity:1; fill:none\" points=\"\n",
       "  58.1864,135.817 66.0184,135.817 \n",
       "  \"/>\n",
       "<polyline clip-path=\"url(#clip9400)\" style=\"stroke:#000000; stroke-width:1; stroke-opacity:1; fill:none\" points=\"\n",
       "  58.1864,53.9433 66.0184,53.9433 \n",
       "  \"/>\n",
       "<g clip-path=\"url(#clip9400)\">\n",
       "<text style=\"fill:#000000; fill-opacity:1; font-family:Arial,Helvetica Neue,Helvetica,sans-serif; font-size:12; text-anchor:middle;\" transform=\"rotate(0, 58.1864, 373.865)\" x=\"58.1864\" y=\"373.865\">0</text>\n",
       "</g>\n",
       "<g clip-path=\"url(#clip9400)\">\n",
       "<text style=\"fill:#000000; fill-opacity:1; font-family:Arial,Helvetica Neue,Helvetica,sans-serif; font-size:12; text-anchor:middle;\" transform=\"rotate(0, 150.487, 373.865)\" x=\"150.487\" y=\"373.865\">250</text>\n",
       "</g>\n",
       "<g clip-path=\"url(#clip9400)\">\n",
       "<text style=\"fill:#000000; fill-opacity:1; font-family:Arial,Helvetica Neue,Helvetica,sans-serif; font-size:12; text-anchor:middle;\" transform=\"rotate(0, 242.787, 373.865)\" x=\"242.787\" y=\"373.865\">500</text>\n",
       "</g>\n",
       "<g clip-path=\"url(#clip9400)\">\n",
       "<text style=\"fill:#000000; fill-opacity:1; font-family:Arial,Helvetica Neue,Helvetica,sans-serif; font-size:12; text-anchor:middle;\" transform=\"rotate(0, 335.087, 373.865)\" x=\"335.087\" y=\"373.865\">750</text>\n",
       "</g>\n",
       "<g clip-path=\"url(#clip9400)\">\n",
       "<text style=\"fill:#000000; fill-opacity:1; font-family:Arial,Helvetica Neue,Helvetica,sans-serif; font-size:12; text-anchor:middle;\" transform=\"rotate(0, 427.387, 373.865)\" x=\"427.387\" y=\"373.865\">1000</text>\n",
       "</g>\n",
       "<g clip-path=\"url(#clip9400)\">\n",
       "<text style=\"fill:#000000; fill-opacity:1; font-family:Arial,Helvetica Neue,Helvetica,sans-serif; font-size:12; text-anchor:middle;\" transform=\"rotate(0, 519.687, 373.865)\" x=\"519.687\" y=\"373.865\">1250</text>\n",
       "</g>\n",
       "<g clip-path=\"url(#clip9400)\">\n",
       "<text style=\"fill:#000000; fill-opacity:1; font-family:Arial,Helvetica Neue,Helvetica,sans-serif; font-size:12; text-anchor:end;\" transform=\"rotate(0, 52.1864, 304.066)\" x=\"52.1864\" y=\"304.066\">-400</text>\n",
       "</g>\n",
       "<g clip-path=\"url(#clip9400)\">\n",
       "<text style=\"fill:#000000; fill-opacity:1; font-family:Arial,Helvetica Neue,Helvetica,sans-serif; font-size:12; text-anchor:end;\" transform=\"rotate(0, 52.1864, 222.192)\" x=\"52.1864\" y=\"222.192\">-200</text>\n",
       "</g>\n",
       "<g clip-path=\"url(#clip9400)\">\n",
       "<text style=\"fill:#000000; fill-opacity:1; font-family:Arial,Helvetica Neue,Helvetica,sans-serif; font-size:12; text-anchor:end;\" transform=\"rotate(0, 52.1864, 140.317)\" x=\"52.1864\" y=\"140.317\">0</text>\n",
       "</g>\n",
       "<g clip-path=\"url(#clip9400)\">\n",
       "<text style=\"fill:#000000; fill-opacity:1; font-family:Arial,Helvetica Neue,Helvetica,sans-serif; font-size:12; text-anchor:end;\" transform=\"rotate(0, 52.1864, 58.4433)\" x=\"52.1864\" y=\"58.4433\">200</text>\n",
       "</g>\n",
       "<g clip-path=\"url(#clip9400)\">\n",
       "<text style=\"fill:#000000; fill-opacity:1; font-family:Arial,Helvetica Neue,Helvetica,sans-serif; font-size:21; text-anchor:middle;\" transform=\"rotate(0, 319.251, 18)\" x=\"319.251\" y=\"18\">Tiro parabólico</text>\n",
       "</g>\n",
       "<g clip-path=\"url(#clip9400)\">\n",
       "<text style=\"fill:#000000; fill-opacity:1; font-family:Arial,Helvetica Neue,Helvetica,sans-serif; font-size:16; text-anchor:middle;\" transform=\"rotate(0, 319.251, 397.6)\" x=\"319.251\" y=\"397.6\">Posición en X</text>\n",
       "</g>\n",
       "<g clip-path=\"url(#clip9400)\">\n",
       "<text style=\"fill:#000000; fill-opacity:1; font-family:Arial,Helvetica Neue,Helvetica,sans-serif; font-size:16; text-anchor:middle;\" transform=\"rotate(-90, 14.4, 195.781)\" x=\"14.4\" y=\"195.781\">Posición en Y</text>\n",
       "</g>\n",
       "<polyline clip-path=\"url(#clip9402)\" style=\"stroke:#009af9; stroke-width:2; stroke-opacity:1; fill:none\" points=\"\n",
       "  58.1864,135.817 61.4497,132.23 \n",
       "  \"/>\n",
       "<polyline clip-path=\"url(#clip9402)\" style=\"stroke:#009af9; stroke-width:2; stroke-opacity:1; fill:none\" points=\"\n",
       "  61.4497,132.23 64.713,128.706 \n",
       "  \"/>\n",
       "<polyline clip-path=\"url(#clip9402)\" style=\"stroke:#009af9; stroke-width:2; stroke-opacity:1; fill:none\" points=\"\n",
       "  64.713,128.706 67.9763,125.245 \n",
       "  \"/>\n",
       "<polyline clip-path=\"url(#clip9402)\" style=\"stroke:#009af9; stroke-width:2; stroke-opacity:1; fill:none\" points=\"\n",
       "  67.9763,125.245 71.2396,121.846 \n",
       "  \"/>\n",
       "<polyline clip-path=\"url(#clip9402)\" style=\"stroke:#009af9; stroke-width:2; stroke-opacity:1; fill:none\" points=\"\n",
       "  71.2396,121.846 74.5029,118.51 \n",
       "  \"/>\n",
       "<polyline clip-path=\"url(#clip9402)\" style=\"stroke:#009af9; stroke-width:2; stroke-opacity:1; fill:none\" points=\"\n",
       "  74.5029,118.51 77.7663,115.237 \n",
       "  \"/>\n",
       "<polyline clip-path=\"url(#clip9402)\" style=\"stroke:#009af9; stroke-width:2; stroke-opacity:1; fill:none\" points=\"\n",
       "  77.7663,115.237 81.0296,112.026 \n",
       "  \"/>\n",
       "<polyline clip-path=\"url(#clip9402)\" style=\"stroke:#009af9; stroke-width:2; stroke-opacity:1; fill:none\" points=\"\n",
       "  81.0296,112.026 84.2929,108.879 \n",
       "  \"/>\n",
       "<polyline clip-path=\"url(#clip9402)\" style=\"stroke:#009af9; stroke-width:2; stroke-opacity:1; fill:none\" points=\"\n",
       "  84.2929,108.879 87.5562,105.794 \n",
       "  \"/>\n",
       "<polyline clip-path=\"url(#clip9402)\" style=\"stroke:#009af9; stroke-width:2; stroke-opacity:1; fill:none\" points=\"\n",
       "  87.5562,105.794 90.8195,102.771 \n",
       "  \"/>\n",
       "<polyline clip-path=\"url(#clip9402)\" style=\"stroke:#009af9; stroke-width:2; stroke-opacity:1; fill:none\" points=\"\n",
       "  90.8195,102.771 94.0828,99.8118 \n",
       "  \"/>\n",
       "<polyline clip-path=\"url(#clip9402)\" style=\"stroke:#009af9; stroke-width:2; stroke-opacity:1; fill:none\" points=\"\n",
       "  94.0828,99.8118 97.3461,96.915 \n",
       "  \"/>\n",
       "<polyline clip-path=\"url(#clip9402)\" style=\"stroke:#009af9; stroke-width:2; stroke-opacity:1; fill:none\" points=\"\n",
       "  97.3461,96.915 100.609,94.081 \n",
       "  \"/>\n",
       "<polyline clip-path=\"url(#clip9402)\" style=\"stroke:#009af9; stroke-width:2; stroke-opacity:1; fill:none\" points=\"\n",
       "  100.609,94.081 103.873,91.3098 \n",
       "  \"/>\n",
       "<polyline clip-path=\"url(#clip9402)\" style=\"stroke:#009af9; stroke-width:2; stroke-opacity:1; fill:none\" points=\"\n",
       "  103.873,91.3098 107.136,88.6013 \n",
       "  \"/>\n",
       "<polyline clip-path=\"url(#clip9402)\" style=\"stroke:#009af9; stroke-width:2; stroke-opacity:1; fill:none\" points=\"\n",
       "  107.136,88.6013 110.399,85.9555 \n",
       "  \"/>\n",
       "<polyline clip-path=\"url(#clip9402)\" style=\"stroke:#009af9; stroke-width:2; stroke-opacity:1; fill:none\" points=\"\n",
       "  110.399,85.9555 113.663,83.3725 \n",
       "  \"/>\n",
       "<polyline clip-path=\"url(#clip9402)\" style=\"stroke:#009af9; stroke-width:2; stroke-opacity:1; fill:none\" points=\"\n",
       "  113.663,83.3725 116.926,80.8523 \n",
       "  \"/>\n",
       "<polyline clip-path=\"url(#clip9402)\" style=\"stroke:#009af9; stroke-width:2; stroke-opacity:1; fill:none\" points=\"\n",
       "  116.926,80.8523 120.189,78.3947 \n",
       "  \"/>\n",
       "<polyline clip-path=\"url(#clip9402)\" style=\"stroke:#009af9; stroke-width:2; stroke-opacity:1; fill:none\" points=\"\n",
       "  120.189,78.3947 123.452,76 \n",
       "  \"/>\n",
       "<polyline clip-path=\"url(#clip9402)\" style=\"stroke:#009af9; stroke-width:2; stroke-opacity:1; fill:none\" points=\"\n",
       "  123.452,76 126.716,73.668 \n",
       "  \"/>\n",
       "<polyline clip-path=\"url(#clip9402)\" style=\"stroke:#009af9; stroke-width:2; stroke-opacity:1; fill:none\" points=\"\n",
       "  126.716,73.668 129.979,71.3987 \n",
       "  \"/>\n",
       "<polyline clip-path=\"url(#clip9402)\" style=\"stroke:#009af9; stroke-width:2; stroke-opacity:1; fill:none\" points=\"\n",
       "  129.979,71.3987 133.242,69.1922 \n",
       "  \"/>\n",
       "<polyline clip-path=\"url(#clip9402)\" style=\"stroke:#009af9; stroke-width:2; stroke-opacity:1; fill:none\" points=\"\n",
       "  133.242,69.1922 136.506,67.0484 \n",
       "  \"/>\n",
       "<polyline clip-path=\"url(#clip9402)\" style=\"stroke:#009af9; stroke-width:2; stroke-opacity:1; fill:none\" points=\"\n",
       "  136.506,67.0484 139.769,64.9674 \n",
       "  \"/>\n",
       "<polyline clip-path=\"url(#clip9402)\" style=\"stroke:#009af9; stroke-width:2; stroke-opacity:1; fill:none\" points=\"\n",
       "  139.769,64.9674 143.032,62.9492 \n",
       "  \"/>\n",
       "<polyline clip-path=\"url(#clip9402)\" style=\"stroke:#009af9; stroke-width:2; stroke-opacity:1; fill:none\" points=\"\n",
       "  143.032,62.9492 146.296,60.9936 \n",
       "  \"/>\n",
       "<polyline clip-path=\"url(#clip9402)\" style=\"stroke:#009af9; stroke-width:2; stroke-opacity:1; fill:none\" points=\"\n",
       "  146.296,60.9936 149.559,59.1009 \n",
       "  \"/>\n",
       "<polyline clip-path=\"url(#clip9402)\" style=\"stroke:#009af9; stroke-width:2; stroke-opacity:1; fill:none\" points=\"\n",
       "  149.559,59.1009 152.822,57.2709 \n",
       "  \"/>\n",
       "<polyline clip-path=\"url(#clip9402)\" style=\"stroke:#009af9; stroke-width:2; stroke-opacity:1; fill:none\" points=\"\n",
       "  152.822,57.2709 156.086,55.5036 \n",
       "  \"/>\n",
       "<polyline clip-path=\"url(#clip9402)\" style=\"stroke:#009af9; stroke-width:2; stroke-opacity:1; fill:none\" points=\"\n",
       "  156.086,55.5036 159.349,53.7991 \n",
       "  \"/>\n",
       "<polyline clip-path=\"url(#clip9402)\" style=\"stroke:#009af9; stroke-width:2; stroke-opacity:1; fill:none\" points=\"\n",
       "  159.349,53.7991 162.612,52.1573 \n",
       "  \"/>\n",
       "<polyline clip-path=\"url(#clip9402)\" style=\"stroke:#009af9; stroke-width:2; stroke-opacity:1; fill:none\" points=\"\n",
       "  162.612,52.1573 165.875,50.5783 \n",
       "  \"/>\n",
       "<polyline clip-path=\"url(#clip9402)\" style=\"stroke:#009af9; stroke-width:2; stroke-opacity:1; fill:none\" points=\"\n",
       "  165.875,50.5783 169.139,49.062 \n",
       "  \"/>\n",
       "<polyline clip-path=\"url(#clip9402)\" style=\"stroke:#009af9; stroke-width:2; stroke-opacity:1; fill:none\" points=\"\n",
       "  169.139,49.062 172.402,47.6085 \n",
       "  \"/>\n",
       "<polyline clip-path=\"url(#clip9402)\" style=\"stroke:#009af9; stroke-width:2; stroke-opacity:1; fill:none\" points=\"\n",
       "  172.402,47.6085 175.665,46.2177 \n",
       "  \"/>\n",
       "<polyline clip-path=\"url(#clip9402)\" style=\"stroke:#009af9; stroke-width:2; stroke-opacity:1; fill:none\" points=\"\n",
       "  175.665,46.2177 178.929,44.8897 \n",
       "  \"/>\n",
       "<polyline clip-path=\"url(#clip9402)\" style=\"stroke:#009af9; stroke-width:2; stroke-opacity:1; fill:none\" points=\"\n",
       "  178.929,44.8897 182.192,43.6244 \n",
       "  \"/>\n",
       "<polyline clip-path=\"url(#clip9402)\" style=\"stroke:#009af9; stroke-width:2; stroke-opacity:1; fill:none\" points=\"\n",
       "  182.192,43.6244 185.455,42.4218 \n",
       "  \"/>\n",
       "<polyline clip-path=\"url(#clip9402)\" style=\"stroke:#009af9; stroke-width:2; stroke-opacity:1; fill:none\" points=\"\n",
       "  185.455,42.4218 188.719,41.2821 \n",
       "  \"/>\n",
       "<polyline clip-path=\"url(#clip9402)\" style=\"stroke:#009af9; stroke-width:2; stroke-opacity:1; fill:none\" points=\"\n",
       "  188.719,41.2821 191.982,40.205 \n",
       "  \"/>\n",
       "<polyline clip-path=\"url(#clip9402)\" style=\"stroke:#009af9; stroke-width:2; stroke-opacity:1; fill:none\" points=\"\n",
       "  191.982,40.205 195.245,39.1907 \n",
       "  \"/>\n",
       "<polyline clip-path=\"url(#clip9402)\" style=\"stroke:#009af9; stroke-width:2; stroke-opacity:1; fill:none\" points=\"\n",
       "  195.245,39.1907 198.508,38.2392 \n",
       "  \"/>\n",
       "<polyline clip-path=\"url(#clip9402)\" style=\"stroke:#009af9; stroke-width:2; stroke-opacity:1; fill:none\" points=\"\n",
       "  198.508,38.2392 201.772,37.3504 \n",
       "  \"/>\n",
       "<polyline clip-path=\"url(#clip9402)\" style=\"stroke:#009af9; stroke-width:2; stroke-opacity:1; fill:none\" points=\"\n",
       "  201.772,37.3504 205.035,36.5244 \n",
       "  \"/>\n",
       "<polyline clip-path=\"url(#clip9402)\" style=\"stroke:#009af9; stroke-width:2; stroke-opacity:1; fill:none\" points=\"\n",
       "  205.035,36.5244 208.298,35.7611 \n",
       "  \"/>\n",
       "<polyline clip-path=\"url(#clip9402)\" style=\"stroke:#009af9; stroke-width:2; stroke-opacity:1; fill:none\" points=\"\n",
       "  208.298,35.7611 211.562,35.0606 \n",
       "  \"/>\n",
       "<polyline clip-path=\"url(#clip9402)\" style=\"stroke:#009af9; stroke-width:2; stroke-opacity:1; fill:none\" points=\"\n",
       "  211.562,35.0606 214.825,34.4228 \n",
       "  \"/>\n",
       "<polyline clip-path=\"url(#clip9402)\" style=\"stroke:#009af9; stroke-width:2; stroke-opacity:1; fill:none\" points=\"\n",
       "  214.825,34.4228 218.088,33.8477 \n",
       "  \"/>\n",
       "<polyline clip-path=\"url(#clip9402)\" style=\"stroke:#009af9; stroke-width:2; stroke-opacity:1; fill:none\" points=\"\n",
       "  218.088,33.8477 221.352,33.3354 \n",
       "  \"/>\n",
       "<polyline clip-path=\"url(#clip9402)\" style=\"stroke:#009af9; stroke-width:2; stroke-opacity:1; fill:none\" points=\"\n",
       "  221.352,33.3354 224.615,32.8859 \n",
       "  \"/>\n",
       "<polyline clip-path=\"url(#clip9402)\" style=\"stroke:#009af9; stroke-width:2; stroke-opacity:1; fill:none\" points=\"\n",
       "  224.615,32.8859 227.878,32.4991 \n",
       "  \"/>\n",
       "<polyline clip-path=\"url(#clip9402)\" style=\"stroke:#009af9; stroke-width:2; stroke-opacity:1; fill:none\" points=\"\n",
       "  227.878,32.4991 231.142,32.1751 \n",
       "  \"/>\n",
       "<polyline clip-path=\"url(#clip9402)\" style=\"stroke:#009af9; stroke-width:2; stroke-opacity:1; fill:none\" points=\"\n",
       "  231.142,32.1751 234.405,31.9138 \n",
       "  \"/>\n",
       "<polyline clip-path=\"url(#clip9402)\" style=\"stroke:#009af9; stroke-width:2; stroke-opacity:1; fill:none\" points=\"\n",
       "  234.405,31.9138 237.668,31.7152 \n",
       "  \"/>\n",
       "<polyline clip-path=\"url(#clip9402)\" style=\"stroke:#009af9; stroke-width:2; stroke-opacity:1; fill:none\" points=\"\n",
       "  237.668,31.7152 240.931,31.5794 \n",
       "  \"/>\n",
       "<polyline clip-path=\"url(#clip9402)\" style=\"stroke:#009af9; stroke-width:2; stroke-opacity:1; fill:none\" points=\"\n",
       "  240.931,31.5794 244.195,31.5064 \n",
       "  \"/>\n",
       "<polyline clip-path=\"url(#clip9402)\" style=\"stroke:#009af9; stroke-width:2; stroke-opacity:1; fill:none\" points=\"\n",
       "  244.195,31.5064 247.458,31.4961 \n",
       "  \"/>\n",
       "<polyline clip-path=\"url(#clip9402)\" style=\"stroke:#009af9; stroke-width:2; stroke-opacity:1; fill:none\" points=\"\n",
       "  247.458,31.4961 250.721,31.5485 \n",
       "  \"/>\n",
       "<polyline clip-path=\"url(#clip9402)\" style=\"stroke:#009af9; stroke-width:2; stroke-opacity:1; fill:none\" points=\"\n",
       "  250.721,31.5485 253.985,31.6637 \n",
       "  \"/>\n",
       "<polyline clip-path=\"url(#clip9402)\" style=\"stroke:#009af9; stroke-width:2; stroke-opacity:1; fill:none\" points=\"\n",
       "  253.985,31.6637 257.248,31.8417 \n",
       "  \"/>\n",
       "<polyline clip-path=\"url(#clip9402)\" style=\"stroke:#009af9; stroke-width:2; stroke-opacity:1; fill:none\" points=\"\n",
       "  257.248,31.8417 260.511,32.0823 \n",
       "  \"/>\n",
       "<polyline clip-path=\"url(#clip9402)\" style=\"stroke:#009af9; stroke-width:2; stroke-opacity:1; fill:none\" points=\"\n",
       "  260.511,32.0823 263.775,32.3858 \n",
       "  \"/>\n",
       "<polyline clip-path=\"url(#clip9402)\" style=\"stroke:#009af9; stroke-width:2; stroke-opacity:1; fill:none\" points=\"\n",
       "  263.775,32.3858 267.038,32.752 \n",
       "  \"/>\n",
       "<polyline clip-path=\"url(#clip9402)\" style=\"stroke:#009af9; stroke-width:2; stroke-opacity:1; fill:none\" points=\"\n",
       "  267.038,32.752 270.301,33.1809 \n",
       "  \"/>\n",
       "<polyline clip-path=\"url(#clip9402)\" style=\"stroke:#009af9; stroke-width:2; stroke-opacity:1; fill:none\" points=\"\n",
       "  270.301,33.1809 273.564,33.6726 \n",
       "  \"/>\n",
       "<polyline clip-path=\"url(#clip9402)\" style=\"stroke:#009af9; stroke-width:2; stroke-opacity:1; fill:none\" points=\"\n",
       "  273.564,33.6726 276.828,34.2271 \n",
       "  \"/>\n",
       "<polyline clip-path=\"url(#clip9402)\" style=\"stroke:#009af9; stroke-width:2; stroke-opacity:1; fill:none\" points=\"\n",
       "  276.828,34.2271 280.091,34.8442 \n",
       "  \"/>\n",
       "<polyline clip-path=\"url(#clip9402)\" style=\"stroke:#009af9; stroke-width:2; stroke-opacity:1; fill:none\" points=\"\n",
       "  280.091,34.8442 283.354,35.5242 \n",
       "  \"/>\n",
       "<polyline clip-path=\"url(#clip9402)\" style=\"stroke:#009af9; stroke-width:2; stroke-opacity:1; fill:none\" points=\"\n",
       "  283.354,35.5242 286.618,36.2669 \n",
       "  \"/>\n",
       "<polyline clip-path=\"url(#clip9402)\" style=\"stroke:#009af9; stroke-width:2; stroke-opacity:1; fill:none\" points=\"\n",
       "  286.618,36.2669 289.881,37.0723 \n",
       "  \"/>\n",
       "<polyline clip-path=\"url(#clip9402)\" style=\"stroke:#009af9; stroke-width:2; stroke-opacity:1; fill:none\" points=\"\n",
       "  289.881,37.0723 293.144,37.9405 \n",
       "  \"/>\n",
       "<polyline clip-path=\"url(#clip9402)\" style=\"stroke:#009af9; stroke-width:2; stroke-opacity:1; fill:none\" points=\"\n",
       "  293.144,37.9405 296.408,38.8714 \n",
       "  \"/>\n",
       "<polyline clip-path=\"url(#clip9402)\" style=\"stroke:#009af9; stroke-width:2; stroke-opacity:1; fill:none\" points=\"\n",
       "  296.408,38.8714 299.671,39.8651 \n",
       "  \"/>\n",
       "<polyline clip-path=\"url(#clip9402)\" style=\"stroke:#009af9; stroke-width:2; stroke-opacity:1; fill:none\" points=\"\n",
       "  299.671,39.8651 302.934,40.9215 \n",
       "  \"/>\n",
       "<polyline clip-path=\"url(#clip9402)\" style=\"stroke:#009af9; stroke-width:2; stroke-opacity:1; fill:none\" points=\"\n",
       "  302.934,40.9215 306.197,42.0407 \n",
       "  \"/>\n",
       "<polyline clip-path=\"url(#clip9402)\" style=\"stroke:#009af9; stroke-width:2; stroke-opacity:1; fill:none\" points=\"\n",
       "  306.197,42.0407 309.461,43.2226 \n",
       "  \"/>\n",
       "<polyline clip-path=\"url(#clip9402)\" style=\"stroke:#009af9; stroke-width:2; stroke-opacity:1; fill:none\" points=\"\n",
       "  309.461,43.2226 312.724,44.4673 \n",
       "  \"/>\n",
       "<polyline clip-path=\"url(#clip9402)\" style=\"stroke:#009af9; stroke-width:2; stroke-opacity:1; fill:none\" points=\"\n",
       "  312.724,44.4673 315.987,45.7747 \n",
       "  \"/>\n",
       "<polyline clip-path=\"url(#clip9402)\" style=\"stroke:#009af9; stroke-width:2; stroke-opacity:1; fill:none\" points=\"\n",
       "  315.987,45.7747 319.251,47.1449 \n",
       "  \"/>\n",
       "<polyline clip-path=\"url(#clip9402)\" style=\"stroke:#009af9; stroke-width:2; stroke-opacity:1; fill:none\" points=\"\n",
       "  319.251,47.1449 322.514,48.5778 \n",
       "  \"/>\n",
       "<polyline clip-path=\"url(#clip9402)\" style=\"stroke:#009af9; stroke-width:2; stroke-opacity:1; fill:none\" points=\"\n",
       "  322.514,48.5778 325.777,50.0735 \n",
       "  \"/>\n",
       "<polyline clip-path=\"url(#clip9402)\" style=\"stroke:#009af9; stroke-width:2; stroke-opacity:1; fill:none\" points=\"\n",
       "  325.777,50.0735 329.041,51.6319 \n",
       "  \"/>\n",
       "<polyline clip-path=\"url(#clip9402)\" style=\"stroke:#009af9; stroke-width:2; stroke-opacity:1; fill:none\" points=\"\n",
       "  329.041,51.6319 332.304,53.2531 \n",
       "  \"/>\n",
       "<polyline clip-path=\"url(#clip9402)\" style=\"stroke:#009af9; stroke-width:2; stroke-opacity:1; fill:none\" points=\"\n",
       "  332.304,53.2531 335.567,54.937 \n",
       "  \"/>\n",
       "<polyline clip-path=\"url(#clip9402)\" style=\"stroke:#009af9; stroke-width:2; stroke-opacity:1; fill:none\" points=\"\n",
       "  335.567,54.937 338.831,56.6837 \n",
       "  \"/>\n",
       "<polyline clip-path=\"url(#clip9402)\" style=\"stroke:#009af9; stroke-width:2; stroke-opacity:1; fill:none\" points=\"\n",
       "  338.831,56.6837 342.094,58.4931 \n",
       "  \"/>\n",
       "<polyline clip-path=\"url(#clip9402)\" style=\"stroke:#009af9; stroke-width:2; stroke-opacity:1; fill:none\" points=\"\n",
       "  342.094,58.4931 345.357,60.3653 \n",
       "  \"/>\n",
       "<polyline clip-path=\"url(#clip9402)\" style=\"stroke:#009af9; stroke-width:2; stroke-opacity:1; fill:none\" points=\"\n",
       "  345.357,60.3653 348.62,62.3002 \n",
       "  \"/>\n",
       "<polyline clip-path=\"url(#clip9402)\" style=\"stroke:#009af9; stroke-width:2; stroke-opacity:1; fill:none\" points=\"\n",
       "  348.62,62.3002 351.884,64.2979 \n",
       "  \"/>\n",
       "<polyline clip-path=\"url(#clip9402)\" style=\"stroke:#009af9; stroke-width:2; stroke-opacity:1; fill:none\" points=\"\n",
       "  351.884,64.2979 355.147,66.3583 \n",
       "  \"/>\n",
       "<polyline clip-path=\"url(#clip9402)\" style=\"stroke:#009af9; stroke-width:2; stroke-opacity:1; fill:none\" points=\"\n",
       "  355.147,66.3583 358.41,68.4814 \n",
       "  \"/>\n",
       "<polyline clip-path=\"url(#clip9402)\" style=\"stroke:#009af9; stroke-width:2; stroke-opacity:1; fill:none\" points=\"\n",
       "  358.41,68.4814 361.674,70.6673 \n",
       "  \"/>\n",
       "<polyline clip-path=\"url(#clip9402)\" style=\"stroke:#009af9; stroke-width:2; stroke-opacity:1; fill:none\" points=\"\n",
       "  361.674,70.6673 364.937,72.916 \n",
       "  \"/>\n",
       "<polyline clip-path=\"url(#clip9402)\" style=\"stroke:#009af9; stroke-width:2; stroke-opacity:1; fill:none\" points=\"\n",
       "  364.937,72.916 368.2,75.2274 \n",
       "  \"/>\n",
       "<polyline clip-path=\"url(#clip9402)\" style=\"stroke:#009af9; stroke-width:2; stroke-opacity:1; fill:none\" points=\"\n",
       "  368.2,75.2274 371.464,77.6016 \n",
       "  \"/>\n",
       "<polyline clip-path=\"url(#clip9402)\" style=\"stroke:#009af9; stroke-width:2; stroke-opacity:1; fill:none\" points=\"\n",
       "  371.464,77.6016 374.727,80.0385 \n",
       "  \"/>\n",
       "<polyline clip-path=\"url(#clip9402)\" style=\"stroke:#009af9; stroke-width:2; stroke-opacity:1; fill:none\" points=\"\n",
       "  374.727,80.0385 377.99,82.5381 \n",
       "  \"/>\n",
       "<polyline clip-path=\"url(#clip9402)\" style=\"stroke:#009af9; stroke-width:2; stroke-opacity:1; fill:none\" points=\"\n",
       "  377.99,82.5381 381.253,85.1005 \n",
       "  \"/>\n",
       "<polyline clip-path=\"url(#clip9402)\" style=\"stroke:#009af9; stroke-width:2; stroke-opacity:1; fill:none\" points=\"\n",
       "  381.253,85.1005 384.517,87.7257 \n",
       "  \"/>\n",
       "<polyline clip-path=\"url(#clip9402)\" style=\"stroke:#009af9; stroke-width:2; stroke-opacity:1; fill:none\" points=\"\n",
       "  384.517,87.7257 387.78,90.4136 \n",
       "  \"/>\n",
       "<polyline clip-path=\"url(#clip9402)\" style=\"stroke:#009af9; stroke-width:2; stroke-opacity:1; fill:none\" points=\"\n",
       "  387.78,90.4136 391.043,93.1642 \n",
       "  \"/>\n",
       "<polyline clip-path=\"url(#clip9402)\" style=\"stroke:#009af9; stroke-width:2; stroke-opacity:1; fill:none\" points=\"\n",
       "  391.043,93.1642 394.307,95.9776 \n",
       "  \"/>\n",
       "<polyline clip-path=\"url(#clip9402)\" style=\"stroke:#009af9; stroke-width:2; stroke-opacity:1; fill:none\" points=\"\n",
       "  394.307,95.9776 397.57,98.8538 \n",
       "  \"/>\n",
       "<polyline clip-path=\"url(#clip9402)\" style=\"stroke:#009af9; stroke-width:2; stroke-opacity:1; fill:none\" points=\"\n",
       "  397.57,98.8538 400.833,101.793 \n",
       "  \"/>\n",
       "<polyline clip-path=\"url(#clip9402)\" style=\"stroke:#009af9; stroke-width:2; stroke-opacity:1; fill:none\" points=\"\n",
       "  400.833,101.793 404.097,104.794 \n",
       "  \"/>\n",
       "<polyline clip-path=\"url(#clip9402)\" style=\"stroke:#009af9; stroke-width:2; stroke-opacity:1; fill:none\" points=\"\n",
       "  404.097,104.794 407.36,107.859 \n",
       "  \"/>\n",
       "<polyline clip-path=\"url(#clip9402)\" style=\"stroke:#009af9; stroke-width:2; stroke-opacity:1; fill:none\" points=\"\n",
       "  407.36,107.859 410.623,110.986 \n",
       "  \"/>\n",
       "<polyline clip-path=\"url(#clip9402)\" style=\"stroke:#009af9; stroke-width:2; stroke-opacity:1; fill:none\" points=\"\n",
       "  410.623,110.986 413.886,114.176 \n",
       "  \"/>\n",
       "<polyline clip-path=\"url(#clip9402)\" style=\"stroke:#009af9; stroke-width:2; stroke-opacity:1; fill:none\" points=\"\n",
       "  413.886,114.176 417.15,117.428 \n",
       "  \"/>\n",
       "<polyline clip-path=\"url(#clip9402)\" style=\"stroke:#009af9; stroke-width:2; stroke-opacity:1; fill:none\" points=\"\n",
       "  417.15,117.428 420.413,120.744 \n",
       "  \"/>\n",
       "<polyline clip-path=\"url(#clip9402)\" style=\"stroke:#009af9; stroke-width:2; stroke-opacity:1; fill:none\" points=\"\n",
       "  420.413,120.744 423.676,124.122 \n",
       "  \"/>\n",
       "<polyline clip-path=\"url(#clip9402)\" style=\"stroke:#009af9; stroke-width:2; stroke-opacity:1; fill:none\" points=\"\n",
       "  423.676,124.122 426.94,127.563 \n",
       "  \"/>\n",
       "<polyline clip-path=\"url(#clip9402)\" style=\"stroke:#009af9; stroke-width:2; stroke-opacity:1; fill:none\" points=\"\n",
       "  426.94,127.563 430.203,131.066 \n",
       "  \"/>\n",
       "<polyline clip-path=\"url(#clip9402)\" style=\"stroke:#009af9; stroke-width:2; stroke-opacity:1; fill:none\" points=\"\n",
       "  430.203,131.066 433.466,134.633 \n",
       "  \"/>\n",
       "<polyline clip-path=\"url(#clip9402)\" style=\"stroke:#009af9; stroke-width:2; stroke-opacity:1; fill:none\" points=\"\n",
       "  433.466,134.633 436.73,138.262 \n",
       "  \"/>\n",
       "<polyline clip-path=\"url(#clip9402)\" style=\"stroke:#009af9; stroke-width:2; stroke-opacity:1; fill:none\" points=\"\n",
       "  436.73,138.262 439.993,141.954 \n",
       "  \"/>\n",
       "<polyline clip-path=\"url(#clip9402)\" style=\"stroke:#009af9; stroke-width:2; stroke-opacity:1; fill:none\" points=\"\n",
       "  439.993,141.954 443.256,145.709 \n",
       "  \"/>\n",
       "<polyline clip-path=\"url(#clip9402)\" style=\"stroke:#009af9; stroke-width:2; stroke-opacity:1; fill:none\" points=\"\n",
       "  443.256,145.709 446.52,149.526 \n",
       "  \"/>\n",
       "<polyline clip-path=\"url(#clip9402)\" style=\"stroke:#009af9; stroke-width:2; stroke-opacity:1; fill:none\" points=\"\n",
       "  446.52,149.526 449.783,153.406 \n",
       "  \"/>\n",
       "<polyline clip-path=\"url(#clip9402)\" style=\"stroke:#009af9; stroke-width:2; stroke-opacity:1; fill:none\" points=\"\n",
       "  449.783,153.406 453.046,157.349 \n",
       "  \"/>\n",
       "<polyline clip-path=\"url(#clip9402)\" style=\"stroke:#009af9; stroke-width:2; stroke-opacity:1; fill:none\" points=\"\n",
       "  453.046,157.349 456.309,161.355 \n",
       "  \"/>\n",
       "<polyline clip-path=\"url(#clip9402)\" style=\"stroke:#009af9; stroke-width:2; stroke-opacity:1; fill:none\" points=\"\n",
       "  456.309,161.355 459.573,165.423 \n",
       "  \"/>\n",
       "<polyline clip-path=\"url(#clip9402)\" style=\"stroke:#009af9; stroke-width:2; stroke-opacity:1; fill:none\" points=\"\n",
       "  459.573,165.423 462.836,169.554 \n",
       "  \"/>\n",
       "<polyline clip-path=\"url(#clip9402)\" style=\"stroke:#009af9; stroke-width:2; stroke-opacity:1; fill:none\" points=\"\n",
       "  462.836,169.554 466.099,173.748 \n",
       "  \"/>\n",
       "<polyline clip-path=\"url(#clip9402)\" style=\"stroke:#009af9; stroke-width:2; stroke-opacity:1; fill:none\" points=\"\n",
       "  466.099,173.748 469.363,178.005 \n",
       "  \"/>\n",
       "<polyline clip-path=\"url(#clip9402)\" style=\"stroke:#009af9; stroke-width:2; stroke-opacity:1; fill:none\" points=\"\n",
       "  469.363,178.005 472.626,182.324 \n",
       "  \"/>\n",
       "<polyline clip-path=\"url(#clip9402)\" style=\"stroke:#009af9; stroke-width:2; stroke-opacity:1; fill:none\" points=\"\n",
       "  472.626,182.324 475.889,186.706 \n",
       "  \"/>\n",
       "<polyline clip-path=\"url(#clip9402)\" style=\"stroke:#009af9; stroke-width:2; stroke-opacity:1; fill:none\" points=\"\n",
       "  475.889,186.706 479.153,191.151 \n",
       "  \"/>\n",
       "<polyline clip-path=\"url(#clip9402)\" style=\"stroke:#009af9; stroke-width:2; stroke-opacity:1; fill:none\" points=\"\n",
       "  479.153,191.151 482.416,195.659 \n",
       "  \"/>\n",
       "<polyline clip-path=\"url(#clip9402)\" style=\"stroke:#009af9; stroke-width:2; stroke-opacity:1; fill:none\" points=\"\n",
       "  482.416,195.659 485.679,200.229 \n",
       "  \"/>\n",
       "<polyline clip-path=\"url(#clip9402)\" style=\"stroke:#009af9; stroke-width:2; stroke-opacity:1; fill:none\" points=\"\n",
       "  485.679,200.229 488.942,204.862 \n",
       "  \"/>\n",
       "<polyline clip-path=\"url(#clip9402)\" style=\"stroke:#009af9; stroke-width:2; stroke-opacity:1; fill:none\" points=\"\n",
       "  488.942,204.862 492.206,209.558 \n",
       "  \"/>\n",
       "<polyline clip-path=\"url(#clip9402)\" style=\"stroke:#009af9; stroke-width:2; stroke-opacity:1; fill:none\" points=\"\n",
       "  492.206,209.558 495.469,214.317 \n",
       "  \"/>\n",
       "<polyline clip-path=\"url(#clip9402)\" style=\"stroke:#009af9; stroke-width:2; stroke-opacity:1; fill:none\" points=\"\n",
       "  495.469,214.317 498.732,219.138 \n",
       "  \"/>\n",
       "<polyline clip-path=\"url(#clip9402)\" style=\"stroke:#009af9; stroke-width:2; stroke-opacity:1; fill:none\" points=\"\n",
       "  498.732,219.138 501.996,224.022 \n",
       "  \"/>\n",
       "<polyline clip-path=\"url(#clip9402)\" style=\"stroke:#009af9; stroke-width:2; stroke-opacity:1; fill:none\" points=\"\n",
       "  501.996,224.022 505.259,228.969 \n",
       "  \"/>\n",
       "<polyline clip-path=\"url(#clip9402)\" style=\"stroke:#009af9; stroke-width:2; stroke-opacity:1; fill:none\" points=\"\n",
       "  505.259,228.969 508.522,233.978 \n",
       "  \"/>\n",
       "<polyline clip-path=\"url(#clip9402)\" style=\"stroke:#009af9; stroke-width:2; stroke-opacity:1; fill:none\" points=\"\n",
       "  508.522,233.978 511.786,239.051 \n",
       "  \"/>\n",
       "<polyline clip-path=\"url(#clip9402)\" style=\"stroke:#009af9; stroke-width:2; stroke-opacity:1; fill:none\" points=\"\n",
       "  511.786,239.051 515.049,244.186 \n",
       "  \"/>\n",
       "<polyline clip-path=\"url(#clip9402)\" style=\"stroke:#009af9; stroke-width:2; stroke-opacity:1; fill:none\" points=\"\n",
       "  515.049,244.186 518.312,249.384 \n",
       "  \"/>\n",
       "<polyline clip-path=\"url(#clip9402)\" style=\"stroke:#009af9; stroke-width:2; stroke-opacity:1; fill:none\" points=\"\n",
       "  518.312,249.384 521.576,254.644 \n",
       "  \"/>\n",
       "<polyline clip-path=\"url(#clip9402)\" style=\"stroke:#009af9; stroke-width:2; stroke-opacity:1; fill:none\" points=\"\n",
       "  521.576,254.644 524.839,259.968 \n",
       "  \"/>\n",
       "<polyline clip-path=\"url(#clip9402)\" style=\"stroke:#009af9; stroke-width:2; stroke-opacity:1; fill:none\" points=\"\n",
       "  524.839,259.968 528.102,265.354 \n",
       "  \"/>\n",
       "<polyline clip-path=\"url(#clip9402)\" style=\"stroke:#009af9; stroke-width:2; stroke-opacity:1; fill:none\" points=\"\n",
       "  528.102,265.354 531.365,270.803 \n",
       "  \"/>\n",
       "<polyline clip-path=\"url(#clip9402)\" style=\"stroke:#009af9; stroke-width:2; stroke-opacity:1; fill:none\" points=\"\n",
       "  531.365,270.803 534.629,276.314 \n",
       "  \"/>\n",
       "<polyline clip-path=\"url(#clip9402)\" style=\"stroke:#009af9; stroke-width:2; stroke-opacity:1; fill:none\" points=\"\n",
       "  534.629,276.314 537.892,281.889 \n",
       "  \"/>\n",
       "<polyline clip-path=\"url(#clip9402)\" style=\"stroke:#009af9; stroke-width:2; stroke-opacity:1; fill:none\" points=\"\n",
       "  537.892,281.889 541.155,287.526 \n",
       "  \"/>\n",
       "<polyline clip-path=\"url(#clip9402)\" style=\"stroke:#009af9; stroke-width:2; stroke-opacity:1; fill:none\" points=\"\n",
       "  541.155,287.526 544.419,293.226 \n",
       "  \"/>\n",
       "<polyline clip-path=\"url(#clip9402)\" style=\"stroke:#009af9; stroke-width:2; stroke-opacity:1; fill:none\" points=\"\n",
       "  544.419,293.226 547.682,298.988 \n",
       "  \"/>\n",
       "<polyline clip-path=\"url(#clip9402)\" style=\"stroke:#009af9; stroke-width:2; stroke-opacity:1; fill:none\" points=\"\n",
       "  547.682,298.988 550.945,304.814 \n",
       "  \"/>\n",
       "<polyline clip-path=\"url(#clip9402)\" style=\"stroke:#009af9; stroke-width:2; stroke-opacity:1; fill:none\" points=\"\n",
       "  550.945,304.814 554.209,310.702 \n",
       "  \"/>\n",
       "<polyline clip-path=\"url(#clip9402)\" style=\"stroke:#009af9; stroke-width:2; stroke-opacity:1; fill:none\" points=\"\n",
       "  554.209,310.702 557.472,316.653 \n",
       "  \"/>\n",
       "<polyline clip-path=\"url(#clip9402)\" style=\"stroke:#009af9; stroke-width:2; stroke-opacity:1; fill:none\" points=\"\n",
       "  557.472,316.653 560.735,322.666 \n",
       "  \"/>\n",
       "<polyline clip-path=\"url(#clip9402)\" style=\"stroke:#009af9; stroke-width:2; stroke-opacity:1; fill:none\" points=\"\n",
       "  560.735,322.666 563.998,328.742 \n",
       "  \"/>\n",
       "<polyline clip-path=\"url(#clip9402)\" style=\"stroke:#009af9; stroke-width:2; stroke-opacity:1; fill:none\" points=\"\n",
       "  563.998,328.742 567.262,334.882 \n",
       "  \"/>\n",
       "<polyline clip-path=\"url(#clip9402)\" style=\"stroke:#009af9; stroke-width:2; stroke-opacity:1; fill:none\" points=\"\n",
       "  567.262,334.882 570.525,341.083 \n",
       "  \"/>\n",
       "<polyline clip-path=\"url(#clip9402)\" style=\"stroke:#009af9; stroke-width:2; stroke-opacity:1; fill:none\" points=\"\n",
       "  570.525,341.083 573.788,347.348 \n",
       "  \"/>\n",
       "<polyline clip-path=\"url(#clip9402)\" style=\"stroke:#009af9; stroke-width:2; stroke-opacity:1; fill:none\" points=\"\n",
       "  573.788,347.348 577.052,353.675 \n",
       "  \"/>\n",
       "<polyline clip-path=\"url(#clip9402)\" style=\"stroke:#009af9; stroke-width:2; stroke-opacity:1; fill:none\" points=\"\n",
       "  577.052,353.675 580.315,360.065 \n",
       "  \"/>\n",
       "<polygon clip-path=\"url(#clip9400)\" points=\"\n",
       "489.799,82.6161 562.315,82.6161 562.315,52.3761 489.799,52.3761 \n",
       "  \" fill=\"#ffffff\" fill-opacity=\"1\"/>\n",
       "<polyline clip-path=\"url(#clip9400)\" style=\"stroke:#000000; stroke-width:1; stroke-opacity:1; fill:none\" points=\"\n",
       "  489.799,82.6161 562.315,82.6161 562.315,52.3761 489.799,52.3761 489.799,82.6161 \n",
       "  \"/>\n",
       "<polyline clip-path=\"url(#clip9400)\" style=\"stroke:#009af9; stroke-width:2; stroke-opacity:1; fill:none\" points=\"\n",
       "  495.799,67.4961 531.799,67.4961 \n",
       "  \"/>\n",
       "<g clip-path=\"url(#clip9400)\">\n",
       "<text style=\"fill:#000000; fill-opacity:1; font-family:Arial,Helvetica Neue,Helvetica,sans-serif; font-size:12; text-anchor:start;\" transform=\"rotate(0, 537.799, 71.9961)\" x=\"537.799\" y=\"71.9961\">y1</text>\n",
       "</g>\n",
       "</svg>\n"
      ]
     },
     "execution_count": 39,
     "metadata": {},
     "output_type": "execute_result"
    }
   ],
   "source": [
    "plot(X,Y,w=2)\n",
    "title!(\"Tiro parabólico\")\n",
    "xaxis!(\"Posición en X\")\n",
    "yaxis!(\"Posición en Y\")"
   ]
  },
  {
   "cell_type": "code",
   "execution_count": 42,
   "metadata": {},
   "outputs": [
    {
     "data": {
      "text/plain": [
       "Plots.PlotlyJSBackend()"
      ]
     },
     "execution_count": 42,
     "metadata": {},
     "output_type": "execute_result"
    }
   ],
   "source": [
    "plotlyjs()"
   ]
  },
  {
   "cell_type": "code",
   "execution_count": 41,
   "metadata": {},
   "outputs": [
    {
     "data": {
      "text/html": [
       "<div id=\"79db7b2c-7771-4100-8d20-67826acd0167\" class=\"plotly-graph-div\"></div>\n",
       "\n",
       "<script>\n",
       "    window.PLOTLYENV=window.PLOTLYENV || {};\n",
       "    window.PLOTLYENV.BASE_URL=\"https://plot.ly\";\n",
       "    require(['plotly'], function(Plotly) {\n",
       "        Plotly.newPlot('79db7b2c-7771-4100-8d20-67826acd0167', [{\"showlegend\":true,\"mode\":\"lines\",\"xaxis\":\"x\",\"colorbar\":{\"title\":\"\"},\"line\":{\"color\":\"rgba(0, 154, 250, 1.000)\",\"width\":2,\"dash\":\"solid\",\"shape\":\"linear\"},\"y\":[0.0,8.762194139831843,17.371107029663687,25.826738669495526,34.12908905932737,42.278158199159215,50.27394608899105,58.1164527288229,65.80567811865474,73.34162225848658,80.72428514831843,87.95366678815027,95.02976717798211,101.95258631781395,108.72212420764579,115.33838084747765,121.80135623730948,128.1110503771413,134.26746326697318,140.270594906805,146.12044529663686,151.8170144364687,157.36030232630054,162.75030896613237,167.9870343559642,173.07047849579607,178.0006413856279,182.77752302545974,187.40112341529158,191.87144255512345,196.1884804449553,200.3522370847871,204.36271247461895,208.21990661445082,211.92381950428262,215.47445114411448,218.87180153394632,222.1158706737782,225.20665856361,228.14416520344184,230.92839059327372,233.55933473310552,236.03699762293738,238.36137926276922,240.5324796526011,242.5502987924329,244.41483668226473,246.1260933220966,247.6840687119284,249.08876285176026,250.34017574159213,251.43830738142398,252.38315777125578,253.17472691108765,253.8130148009195,254.29802144075137,254.62974683058317,254.808190970415,254.83335386024686,254.70523550007874,254.4238358899106,253.98915502974234,253.4011929195742,252.65994955940607,251.7654249492379,250.71761908906979,249.51653197890164,248.16216361873347,246.65451400856523,244.99358314839708,243.17937103822896,241.21187767806083,239.09110306789267,236.8170472077245,234.38971009755636,231.80909173738814,229.07519212721996,226.18801126705182,223.1475491568837,219.95380579671553,216.60678118654744,213.10647532637927,209.45288821621102,205.64601985604293,201.68587024587475,197.57243938570662,193.3057272755384,188.88573391537034,184.3124593052022,179.58590344503386,174.7060663348658,169.67294797469765,164.48654836452943,159.14686750436135,153.6539053941932,148.0076620340251,142.20813742385678,136.25533156368863,130.1492444535205,123.88987609335243,117.47722648318427,110.91129562301603,104.19208351284794,97.31959015267978,90.29381554251154,83.11475968234345,75.78242257217528,68.29680421200715,60.657904601838936,52.86572374167088,44.92026163150274,36.82151827133441,28.569493661166348,20.164187800998207,11.605600690829988,2.893732330661919,-5.9714172795063405,-14.98984813967445,-24.161560249842523,-33.48655361001079,-42.96482822017879,-52.59638408034721,-62.38122119051536,-72.31933955068348,-82.41073916085156,-92.65542002101961,-103.05338213118785,-113.60462549135605,-124.30915010152421,-135.16695596169257,-146.17804307186043,-157.3424114320287,-168.66006104219673,-180.13099190236494,-191.7552040125331,-203.53269737270125,-215.46347198286958,-227.54752784303764,-239.7848649532059,-252.1754833133739,-264.71938292354207,-277.4165637837102,-290.2670258938783,-303.2707692540466,-316.42779386421466,-329.7380997243829,-343.2016868345511,-356.81855519471924,-370.58870480488736,-384.51213566505544,-398.5888477752237,-412.8188411353917,-427.20211574556015,-441.7386716057281,-456.42850871589644,-471.2716270760643,-486.2680266862326,-501.41770754640083,-516.720669656569,-532.1769130167372,-547.7864376269051],\"type\":\"scatter\",\"name\":\"y1\",\"yaxis\":\"y\",\"x\":[0.0,8.838834764831844,17.67766952966369,26.516504294495533,35.35533905932738,44.19417382415922,53.033008588991066,61.87184335382291,70.71067811865476,79.5495128834866,88.38834764831844,97.22718241315029,106.06601717798213,114.90485194281398,123.74368670764582,132.58252147247765,141.4213562373095,150.26019100214137,159.0990257669732,167.93786053180503,176.7766952966369,185.61553006146875,194.45436482630058,203.2931995911324,212.13203435596427,220.97086912079612,229.80970388562795,238.64853865045978,247.48737341529164,256.3262081801235,265.1650429449553,274.00387770978716,282.842712474619,291.6815472394509,300.52038200428274,309.35921676911454,318.1980515339464,327.03688629877826,335.87572106361006,344.7145558284419,353.5533905932738,362.39222535810563,371.2310601229375,380.0698948877693,388.90872965260115,397.747564417433,406.5863991822648,415.4252339470967,424.26406871192853,433.1029034767604,441.94173824159225,450.78057300642405,459.6194077712559,468.45824253608777,477.29707730091957,486.1359120657514,494.9747468305833,503.81358159541514,512.652416360247,521.4912511250789,530.3300858899106,539.1689206547425,548.0077554195743,556.8465901844062,565.685424949238,574.5242597140699,583.3630944789018,592.2019292437336,601.0407640085655,609.8795987733972,618.7184335382291,627.5572683030609,636.3961030678928,645.2349378327247,654.0737725975565,662.9126073623884,671.7514421272201,680.590276892052,689.4291116568838,698.2679464217157,707.1067811865476,715.9456159513794,724.7844507162113,733.6232854810431,742.462120245875,751.3009550107067,760.1397897755386,768.9786245403704,777.8174593052023,786.6562940700342,795.495128834866,804.3339635996979,813.1727983645296,822.0116331293615,830.8504678941933,839.6893026590252,848.5281374238571,857.3669721886889,866.2058069535208,875.0446417183526,883.8834764831845,892.7223112480162,901.5611460128481,910.39998077768,919.2388155425118,928.0776503073437,936.9164850721755,945.7553198370074,954.5941546018391,963.432989366671,972.2718241315029,981.1106588963347,989.9494936611666,998.7883284259984,1007.6271631908303,1016.4659979556621,1025.304832720494,1034.1436674853258,1042.9825022501577,1051.8213370149895,1060.6601717798212,1069.4990065446532,1078.337841309485,1087.176676074317,1096.0155108391486,1104.8543456039806,1113.6931803688124,1122.5320151336443,1131.370849898476,1140.2096846633078,1149.0485194281398,1157.8873541929715,1166.7261889578035,1175.5650237226353,1184.4038584874672,1193.242693252299,1202.081528017131,1210.9203627819627,1219.7591975467944,1228.5980323116264,1237.4368670764582,1246.2757018412901,1255.1145366061219,1263.9533713709538,1272.7922061357856,1281.6310409006173,1290.4698756654493,1299.308710430281,1308.147545195113,1316.9863799599448,1325.8252147247767,1334.6640494896085,1343.5028842544402,1352.3417190192722,1361.180553784104,1370.019388548936,1378.8582233137677,1387.6970580785996,1396.5358928434314,1405.3747276082634,1414.213562373095]}],\n",
       "               {\"showlegend\":true,\"xaxis\":{\"gridwidth\":0.5,\"tickvals\":[0.0,250.0,500.0,750.0,1000.0,1250.0],\"visible\":true,\"ticks\":\"inside\",\"tickmode\":\"array\",\"domain\":[0.09128390201224845,0.9934383202099738],\"linecolor\":\"rgba(0, 0, 0, 1.000)\",\"showgrid\":true,\"title\":\"Posición en X\",\"mirror\":false,\"tickangle\":0,\"showline\":true,\"gridcolor\":\"rgba(0, 0, 0, 0.100)\",\"titlefont\":{\"color\":\"rgba(0, 0, 0, 1.000)\",\"family\":\"sans-serif\",\"size\":15},\"tickcolor\":\"rgb(0, 0, 0)\",\"ticktext\":[\"0\",\"250\",\"500\",\"750\",\"1000\",\"1250\"],\"zeroline\":false,\"type\":\"-\",\"tickfont\":{\"color\":\"rgba(0, 0, 0, 1.000)\",\"family\":\"sans-serif\",\"size\":11},\"zerolinecolor\":\"rgba(0, 0, 0, 1.000)\",\"anchor\":\"y\"},\"paper_bgcolor\":\"rgba(255, 255, 255, 1.000)\",\"annotations\":[{\"yanchor\":\"top\",\"xanchor\":\"center\",\"rotation\":-0.0,\"y\":1.0,\"font\":{\"color\":\"rgba(0, 0, 0, 1.000)\",\"family\":\"sans-serif\",\"size\":20},\"yref\":\"paper\",\"showarrow\":false,\"text\":\"Tiro parabólico\",\"xref\":\"paper\",\"x\":0.5423611111111111}],\"height\":400,\"margin\":{\"l\":0,\"b\":20,\"r\":0,\"t\":20},\"plot_bgcolor\":\"rgba(255, 255, 255, 1.000)\",\"yaxis\":{\"gridwidth\":0.5,\"tickvals\":[-400.0,-200.0,0.0,200.0],\"visible\":true,\"ticks\":\"inside\",\"tickmode\":\"array\",\"domain\":[0.07581474190726165,0.9415463692038496],\"linecolor\":\"rgba(0, 0, 0, 1.000)\",\"showgrid\":true,\"title\":\"Posición en Y\",\"mirror\":false,\"tickangle\":0,\"showline\":true,\"gridcolor\":\"rgba(0, 0, 0, 0.100)\",\"titlefont\":{\"color\":\"rgba(0, 0, 0, 1.000)\",\"family\":\"sans-serif\",\"size\":15},\"tickcolor\":\"rgb(0, 0, 0)\",\"ticktext\":[\"-400\",\"-200\",\"0\",\"200\"],\"zeroline\":false,\"type\":\"-\",\"tickfont\":{\"color\":\"rgba(0, 0, 0, 1.000)\",\"family\":\"sans-serif\",\"size\":11},\"zerolinecolor\":\"rgba(0, 0, 0, 1.000)\",\"anchor\":\"x\"},\"legend\":{\"bordercolor\":\"rgba(0, 0, 0, 1.000)\",\"bgcolor\":\"rgba(255, 255, 255, 1.000)\",\"font\":{\"color\":\"rgba(0, 0, 0, 1.000)\",\"family\":\"sans-serif\",\"size\":11},\"y\":1.0,\"x\":1.0},\"width\":600}, {showLink: false});\n",
       "\n",
       "    });\n",
       " </script>\n"
      ]
     },
     "execution_count": 41,
     "metadata": {},
     "output_type": "execute_result"
    }
   ],
   "source": [
    "plot(X,Y,w=2)\n",
    "title!(\"Tiro parabólico\")\n",
    "xaxis!(\"Posición en X\")\n",
    "yaxis!(\"Posición en Y\")"
   ]
  },
  {
   "cell_type": "code",
   "execution_count": 52,
   "metadata": {},
   "outputs": [
    {
     "data": {
      "text/html": [
       "<img src=\"data:image/png;base64,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\" />"
      ]
     },
     "execution_count": 52,
     "metadata": {},
     "output_type": "execute_result"
    }
   ],
   "source": [
    "plt = plot(1,xlim=(0,1500),ylim=(-500,300),\n",
    "    xlab=\"Posición en X (m)\",ylab=\"Posición en Y (m)\",\n",
    "    title=\"Tiro Parabólico\")"
   ]
  },
  {
   "cell_type": "code",
   "execution_count": 53,
   "metadata": {},
   "outputs": [
    {
     "name": "stderr",
     "output_type": "stream",
     "text": [
      "\u001b[1m\u001b[36mINFO: \u001b[39m\u001b[22m\u001b[36mSaved animation to /home/ollin/Dropbox/Enlace hacia Documentos/compufisica2017/tmp.gif\n",
      "\u001b[39m"
     ]
    },
    {
     "data": {
      "text/html": [
       "<img src=\"tmp.gif?0.2771913440607343>\" />"
      ],
      "text/plain": [
       "Plots.AnimatedGif(\"/home/ollin/Dropbox/Enlace hacia Documentos/compufisica2017/tmp.gif\")"
      ]
     },
     "execution_count": 53,
     "metadata": {},
     "output_type": "execute_result"
    }
   ],
   "source": [
    "@gif for i in eachindex(t)\n",
    "    x = v_0*cos(θ)*t[i]\n",
    "    y = (-(1/2*g*t[i]^2)+v_0*sin(θ)*t[i])\n",
    "    push!(plt,x,y)\n",
    "    end every 2"
   ]
  },
  {
   "cell_type": "code",
   "execution_count": 55,
   "metadata": {},
   "outputs": [
    {
     "name": "stderr",
     "output_type": "stream",
     "text": [
      "\u001b[1m\u001b[36mINFO: \u001b[39m\u001b[22m\u001b[36mPackage Interact is already installed\n",
      "\u001b[39m\u001b[1m\u001b[36mINFO: \u001b[39m\u001b[22m\u001b[36mMETADATA is out-of-date — you may not have the latest version of Interact\n",
      "\u001b[39m\u001b[1m\u001b[36mINFO: \u001b[39m\u001b[22m\u001b[36mUse `Pkg.update()` to get the latest versions of your packages\n",
      "\u001b[39m"
     ]
    }
   ],
   "source": [
    "Pkg.add(\"Interact\")"
   ]
  },
  {
   "cell_type": "code",
   "execution_count": 56,
   "metadata": {},
   "outputs": [
    {
     "name": "stderr",
     "output_type": "stream",
     "text": [
      "\u001b[1m\u001b[36mINFO: \u001b[39m\u001b[22m\u001b[36mPrecompiling module Interact.\n",
      "\u001b[39m"
     ]
    },
    {
     "data": {
      "text/html": [
       "<div id=\"interact-js-shim\">\n",
       "    <script charset=\"utf-8\">\n",
       "(function (IPython, $, _, MathJax) {\n",
       "    $.event.special.destroyed = {\n",
       "\tremove: function(o) {\n",
       "\t    if (o.handler) {\n",
       "\t\to.handler.apply(this, arguments)\n",
       "\t    }\n",
       "\t}\n",
       "    }\n",
       "\n",
       "    var OutputArea = IPython.version >= \"4.0.0\" ? require(\"notebook/js/outputarea\").OutputArea : IPython.OutputArea;\n",
       "\n",
       "    var redrawValue = function (container, type, val) {\n",
       "\tvar selector = $(\"<div/>\");\n",
       "\tvar oa = new OutputArea(_.extend(selector, {\n",
       "\t    selector: selector,\n",
       "\t    prompt_area: true,\n",
       "\t    events: IPython.events,\n",
       "\t    keyboard_manager: IPython.keyboard_manager\n",
       "\t})); // Hack to work with IPython 2.1.0\n",
       "\n",
       "\tswitch (type) {\n",
       "\tcase \"image/png\":\n",
       "            var _src = 'data:' + type + ';base64,' + val;\n",
       "\t    $(container).find(\"img\").attr('src', _src);\n",
       "\t    break;\n",
       "\tcase \"text/latex\":\n",
       "\t\tif (MathJax){\n",
       "\t\t\tvar math = MathJax.Hub.getAllJax(container)[0];\n",
       "\t\t\tMathJax.Hub.Queue([\"Text\", math, val.replace(/^\\${1,2}|\\${1,2}$/g, '')]);\n",
       "\t\t\tbreak;\n",
       "\t\t}\n",
       "\tdefault:\n",
       "\t    var toinsert = OutputArea.append_map[type].apply(\n",
       "\t\toa, [val, {}, selector]\n",
       "\t    );\n",
       "\t    $(container).empty().append(toinsert.contents());\n",
       "\t    selector.remove();\n",
       "\t}\n",
       "    }\n",
       "\n",
       "\n",
       "    $(document).ready(function() {\n",
       "\tfunction initComm(evt, data) {\n",
       "\t    var comm_manager = data.kernel.comm_manager;\n",
       "        //_.extend(comm_manager.targets, require(\"widgets/js/widget\"))\n",
       "\t    comm_manager.register_target(\"Signal\", function (comm) {\n",
       "            comm.on_msg(function (msg) {\n",
       "                var val = msg.content.data.value;\n",
       "                $(\".signal-\" + comm.comm_id).each(function() {\n",
       "                var type = $(this).data(\"type\");\n",
       "                if (typeof(val[type]) !== \"undefined\" && val[type] !== null) {\n",
       "                    redrawValue(this, type, val[type], type);\n",
       "                }\n",
       "                });\n",
       "                delete val;\n",
       "                delete msg.content.data.value;\n",
       "            });\n",
       "\t    });\n",
       "\n",
       "\t    // coordingate with Comm and redraw Signals\n",
       "\t    // XXX: Test using Reactive here to improve performance\n",
       "\t    $([IPython.events]).on(\n",
       "\t\t'output_appended.OutputArea', function (event, type, value, md, toinsert) {\n",
       "\t\t    if (md && md.reactive) {\n",
       "                // console.log(md.comm_id);\n",
       "                toinsert.addClass(\"signal-\" + md.comm_id);\n",
       "                toinsert.data(\"type\", type);\n",
       "                // Signal back indicating the mimetype required\n",
       "                var comm_manager = IPython.notebook.kernel.comm_manager;\n",
       "                var comm = comm_manager.comms[md.comm_id];\n",
       "                comm.then(function (c) {\n",
       "                    c.send({action: \"subscribe_mime\",\n",
       "                       mime: type});\n",
       "                    toinsert.bind(\"destroyed\", function() {\n",
       "                        c.send({action: \"unsubscribe_mime\",\n",
       "                               mime: type});\n",
       "                    });\n",
       "                })\n",
       "\t\t    }\n",
       "\t    });\n",
       "\t}\n",
       "\n",
       "\ttry {\n",
       "\t    // try to initialize right away. otherwise, wait on the status_started event.\n",
       "\t    initComm(undefined, IPython.notebook);\n",
       "\t} catch (e) {\n",
       "\t    $([IPython.events]).on('kernel_created.Kernel kernel_created.Session', initComm);\n",
       "\t}\n",
       "    });\n",
       "})(IPython, jQuery, _, MathJax);\n",
       "</script>\n",
       "    <script>\n",
       "        window.interactLoadedFlag = true\n",
       "       $(\"#interact-js-shim\").bind(\"destroyed\", function () {\n",
       "           if (window.interactLoadedFlag) {\n",
       "               console.warn(\"JavaScript required by Interact will be removed if you remove this cell or run using Interact more than once.\")\n",
       "           }\n",
       "       })\n",
       "       $([IPython.events]).on(\"kernel_starting.Kernel kernel_restarting.Kernel\", function () { window.interactLoadedFlag = false })\n",
       "   </script>\n",
       "</div>"
      ]
     },
     "metadata": {},
     "output_type": "display_data"
    },
    {
     "name": "stderr",
     "output_type": "stream",
     "text": [
      "WARNING: using Interact.select in module Main conflicts with an existing identifier.\n"
     ]
    }
   ],
   "source": [
    "using Interact"
   ]
  },
  {
   "cell_type": "code",
   "execution_count": 65,
   "metadata": {},
   "outputs": [
    {
     "data": {
      "text/html": [],
      "text/plain": [
       "Interact.Options{:SelectionSlider,Any}(25: \"input-8\" = 3.141592653589793 Any , \"θ\", 3.141592653589793, \"3.141592653589793\", 17, Interact.OptionDict(DataStructures.OrderedDict{Any,Any}(\"0.0\"=>0.0,\"0.19634954084936207\"=>0.19635,\"0.39269908169872414\"=>0.392699,\"0.5890486225480862\"=>0.589049,\"0.7853981633974483\"=>0.785398,\"0.9817477042468103\"=>0.981748,\"1.1780972450961724\"=>1.1781,\"1.3744467859455345\"=>1.37445,\"1.5707963267948966\"=>1.5708,\"1.7671458676442586\"=>1.76715…), Dict{Any,Any}(Pair{Any,Any}(0.785398, \"0.7853981633974483\"),Pair{Any,Any}(5.69414, \"5.6941366846315\"),Pair{Any,Any}(5.89049, \"5.890486225480862\"),Pair{Any,Any}(0.589049, \"0.5890486225480862\"),Pair{Any,Any}(5.49779, \"5.497787143782138\"),Pair{Any,Any}(1.76715, \"1.7671458676442586\"),Pair{Any,Any}(2.35619, \"2.356194490192345\"),Pair{Any,Any}(1.37445, \"1.3744467859455345\"),Pair{Any,Any}(0.0, \"0.0\"),Pair{Any,Any}(0.392699, \"0.39269908169872414\")…)), Any[], Any[], true, \"horizontal\")"
      ]
     },
     "metadata": {},
     "output_type": "display_data"
    },
    {
     "data": {
      "text/html": [
       "<img src=\"data:image/png;base64,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\" />"
      ]
     },
     "execution_count": 65,
     "metadata": {
      "comm_id": "df17f797-631c-47bf-ba6e-30e9ceeb0ddd",
      "reactive": true
     },
     "output_type": "execute_result"
    }
   ],
   "source": [
    "@manipulate for θ=0:π/16:2π\n",
    "    X = v_0*cos(θ).*t\n",
    "    Y = (-(1/2*g.*t.^2)+v_0*sin(θ).*t)\n",
    "    plot(X,Y,w=2)\n",
    "end"
   ]
  },
  {
   "cell_type": "code",
   "execution_count": 74,
   "metadata": {},
   "outputs": [
    {
     "data": {
      "text/html": [],
      "text/plain": [
       "Interact.Options{:SelectionSlider,Any}(65: \"input-21\" = 3.141592653589793 Any , \"θ\", 3.141592653589793, \"3.141592653589793\", 17, Interact.OptionDict(DataStructures.OrderedDict{Any,Any}(\"0.0\"=>0.0,\"0.19634954084936207\"=>0.19635,\"0.39269908169872414\"=>0.392699,\"0.5890486225480862\"=>0.589049,\"0.7853981633974483\"=>0.785398,\"0.9817477042468103\"=>0.981748,\"1.1780972450961724\"=>1.1781,\"1.3744467859455345\"=>1.37445,\"1.5707963267948966\"=>1.5708,\"1.7671458676442586\"=>1.76715…), Dict{Any,Any}(Pair{Any,Any}(0.785398, \"0.7853981633974483\"),Pair{Any,Any}(5.69414, \"5.6941366846315\"),Pair{Any,Any}(5.89049, \"5.890486225480862\"),Pair{Any,Any}(0.589049, \"0.5890486225480862\"),Pair{Any,Any}(5.49779, \"5.497787143782138\"),Pair{Any,Any}(1.76715, \"1.7671458676442586\"),Pair{Any,Any}(2.35619, \"2.356194490192345\"),Pair{Any,Any}(1.37445, \"1.3744467859455345\"),Pair{Any,Any}(0.0, \"0.0\"),Pair{Any,Any}(0.392699, \"0.39269908169872414\")…)), Any[], Any[], true, \"horizontal\")"
      ]
     },
     "metadata": {},
     "output_type": "display_data"
    },
    {
     "data": {
      "text/html": [],
      "text/plain": [
       "Interact.Options{:SelectionSlider,Any}(67: \"input-22\" = 500 Any , \"v_0\", 500, \"500\", 51, Interact.OptionDict(DataStructures.OrderedDict{Any,Any}(\"0\"=>0,\"10\"=>10,\"20\"=>20,\"30\"=>30,\"40\"=>40,\"50\"=>50,\"60\"=>60,\"70\"=>70,\"80\"=>80,\"90\"=>90…), Dict{Any,Any}(Pair{Any,Any}(830, \"830\"),Pair{Any,Any}(990, \"990\"),Pair{Any,Any}(210, \"210\"),Pair{Any,Any}(520, \"520\"),Pair{Any,Any}(370, \"370\"),Pair{Any,Any}(360, \"360\"),Pair{Any,Any}(530, \"530\"),Pair{Any,Any}(940, \"940\"),Pair{Any,Any}(160, \"160\"),Pair{Any,Any}(170, \"170\")…)), Any[], Any[], true, \"horizontal\")"
      ]
     },
     "metadata": {},
     "output_type": "display_data"
    },
    {
     "data": {
      "text/html": [
       "<img src=\"data:image/png;base64,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\" />"
      ]
     },
     "execution_count": 74,
     "metadata": {
      "comm_id": "427e37ef-8b1c-44dd-a5ac-1e6e78d928f3",
      "reactive": true
     },
     "output_type": "execute_result"
    }
   ],
   "source": [
    "@manipulate for θ=0:π/16:2π, v_0=0:10:1000\n",
    "    X = v_0*cos(θ).*t\n",
    "    Y = (-(1/2*g.*t.^2)+v_0*sin(θ).*t)\n",
    "    plot(X,Y,w=2,xlim=(minimum(X),maximum(X)),ylim=(minimum(Y),maximum(Y)))\n",
    "    title!(\"Tiro parabólico\")\n",
    "    xaxis!(\"Posición en X\")\n",
    "    yaxis!(\"Posición en Y\")\n",
    "end"
   ]
  },
  {
   "cell_type": "markdown",
   "metadata": {},
   "source": [
    "<div class=\"alert alert-info\" role=\"alert\">\n",
    "<p class =\"lead\"> \n",
    "<h1>Tarea: Tiempo de vuelo y alcance máximo. </h1>\n",
    "</div>"
   ]
  }
 ],
 "metadata": {
  "kernelspec": {
   "display_name": "Julia 0.6.0",
   "language": "julia",
   "name": "julia-0.6"
  },
  "language_info": {
   "file_extension": ".jl",
   "mimetype": "application/julia",
   "name": "julia",
   "version": "0.6.0"
  }
 },
 "nbformat": 4,
 "nbformat_minor": 2
}
