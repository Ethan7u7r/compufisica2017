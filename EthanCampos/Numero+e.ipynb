{
 "cells": [
  {
   "cell_type": "code",
   "execution_count": 1,
   "metadata": {},
   "outputs": [
    {
     "data": {
      "text/plain": [
       "factorial (generic function with 1 method)"
      ]
     },
     "execution_count": 1,
     "metadata": {},
     "output_type": "execute_result"
    }
   ],
   "source": [
    "function factorial(x)\n",
    "    a = 1\n",
    "    for i ∈ 1:x\n",
    "        a=a*i\n",
    "        end\n",
    "    print(a)\n",
    "end"
   ]
  },
  {
   "cell_type": "code",
   "execution_count": 2,
   "metadata": {},
   "outputs": [
    {
     "data": {
      "text/plain": [
       "e (generic function with 1 method)"
      ]
     },
     "execution_count": 2,
     "metadata": {},
     "output_type": "execute_result"
    }
   ],
   "source": [
    "function e(N)\n",
    "    suma=0.0\n",
    "    p=0.0\n",
    "    for n ∈ 0:N\n",
    "        suma=suma+(1/factorial(suma))\n",
    "    end\n",
    "    print(suma)\n",
    "end"
   ]
  },
  {
   "cell_type": "code",
   "execution_count": 3,
   "metadata": {},
   "outputs": [
    {
     "name": "stdout",
     "output_type": "stream",
     "text": [
      "1"
     ]
    },
    {
     "ename": "LoadError",
     "evalue": "MethodError: no method matching /(::Int64, ::Void)\u001b[0m\nClosest candidates are:\n  /(::Integer, \u001b[1m\u001b[31m::Integer\u001b[0m) at int.jl:35\n  /(::Real, \u001b[1m\u001b[31m::Complex{T<:Real}\u001b[0m) at complex.jl:182\n  /(::Union{Int16,Int32,Int64,Int8}, \u001b[1m\u001b[31m::BigFloat\u001b[0m) at mpfr.jl:272\n  ...\u001b[0m",
     "output_type": "error",
     "traceback": [
      "MethodError: no method matching /(::Int64, ::Void)\u001b[0m\nClosest candidates are:\n  /(::Integer, \u001b[1m\u001b[31m::Integer\u001b[0m) at int.jl:35\n  /(::Real, \u001b[1m\u001b[31m::Complex{T<:Real}\u001b[0m) at complex.jl:182\n  /(::Union{Int16,Int32,Int64,Int8}, \u001b[1m\u001b[31m::BigFloat\u001b[0m) at mpfr.jl:272\n  ...\u001b[0m",
      "",
      " in e(::Int64) at ./In[2]:5",
      " in include_string(::String, ::String) at ./loading.jl:441"
     ]
    }
   ],
   "source": [
    "e(5)"
   ]
  },
  {
   "cell_type": "code",
   "execution_count": null,
   "metadata": {
    "collapsed": true
   },
   "outputs": [],
   "source": []
  }
 ],
 "metadata": {
  "kernelspec": {
   "display_name": "Julia 0.5.2",
   "language": "julia",
   "name": "julia-0.5"
  },
  "language_info": {
   "file_extension": ".jl",
   "mimetype": "application/julia",
   "name": "julia",
   "version": "0.5.2"
  }
 },
 "nbformat": 4,
 "nbformat_minor": 2
}
